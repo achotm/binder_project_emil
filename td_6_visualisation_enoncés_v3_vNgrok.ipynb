{
 "cells": [
  {
   "cell_type": "markdown",
   "id": "standing-glossary",
   "metadata": {
    "id": "standing-glossary"
   },
   "source": [
    "![Emil](data:image/png;base64,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)"
   ]
  },
  {
   "cell_type": "code",
   "execution_count": 14,
   "id": "mkVdYneZI6lV",
   "metadata": {
    "id": "mkVdYneZI6lV"
   },
   "outputs": [],
   "source": [
    "import ipywidgets as widgets\n",
    "from IPython.display import display"
   ]
  },
  {
   "cell_type": "code",
   "execution_count": 15,
   "id": "FUgkOiJrOUIH",
   "metadata": {
    "id": "FUgkOiJrOUIH"
   },
   "outputs": [],
   "source": [
    "import pandas as pd\n",
    "import plotly.express as px\n",
    "from ipywidgets import interact, interactive, fixed, interactive_output\n",
    "import io"
   ]
  },
  {
   "cell_type": "code",
   "execution_count": 16,
   "id": "8MixBVyk_9eU",
   "metadata": {
    "id": "8MixBVyk_9eU"
   },
   "outputs": [
    {
     "name": "stderr",
     "output_type": "stream",
     "text": [
      "C:\\Users\\user\\AppData\\Local\\Temp\\ipykernel_10736\\824775238.py:1: DtypeWarning:\n",
      "\n",
      "Columns (12) have mixed types. Specify dtype option on import or set low_memory=False.\n",
      "\n"
     ]
    }
   ],
   "source": [
    "df = pd.read_csv(\"Tiller_order_data.csv\")\n",
    "\n",
    "# Transforme les dates en format datetime\n",
    "df[\"date_opened\"] = pd.to_datetime(df[\"date_opened\"])\n",
    "df[\"date_closed\"] = pd.to_datetime(df[\"date_closed\"])\n",
    "\n",
    "# Mettre en index la date d'ouverture de commande\n",
    "df = df.set_index(df[\"date_opened\"])"
   ]
  },
  {
   "cell_type": "code",
   "execution_count": 17,
   "id": "p_IH0i9wC4Hd",
   "metadata": {
    "id": "p_IH0i9wC4Hd"
   },
   "outputs": [],
   "source": [
    "id_store_dropdown = widgets.Dropdown(\n",
    "    value=8052,\n",
    "    options=df.id_store.unique()\n",
    ")"
   ]
  },
  {
   "cell_type": "code",
   "execution_count": 18,
   "id": "dwp-hosNFSF6",
   "metadata": {
    "id": "dwp-hosNFSF6"
   },
   "outputs": [],
   "source": [
    "date_debut_picker = widgets.DatePicker(\n",
    "    options=df.date_opened.unique(),\n",
    "    value=df.date_opened[0]\n",
    ")"
   ]
  },
  {
   "cell_type": "code",
   "execution_count": 19,
   "id": "yZnBjzFXGXOC",
   "metadata": {
    "id": "yZnBjzFXGXOC"
   },
   "outputs": [],
   "source": [
    "date_fin_picker = widgets.DatePicker(\n",
    "    options=df.date_closed.unique(),\n",
    "    value=df.date_closed[0]\n",
    ")"
   ]
  },
  {
   "cell_type": "code",
   "execution_count": 20,
   "id": "77839b33",
   "metadata": {
    "id": "77839b33",
    "scrolled": false
   },
   "outputs": [],
   "source": [
    "import plotly.graph_objects as go\n",
    "\n",
    "def revenue_over_time(df_store):\n",
    "    df_revenue = df_store[df_store.dim_status==\"CLOSED\"].resample(\"D\").m_cached_payed.sum()\n",
    "\n",
    "    fig = px.line(df_revenue,\n",
    "                  y=\"m_cached_payed\",\n",
    "                  title=\"Chiffre d'affaire au cours du temps\")\n",
    "    fig.update_xaxes(\n",
    "        rangeselector=dict(\n",
    "            buttons=list([\n",
    "                dict(count=7, label=\"Last 7days\", step=\"day\", stepmode=\"backward\"),\n",
    "                dict(count=1, label=\"1m\", step=\"month\", stepmode=\"backward\"),\n",
    "                dict(count=6, label=\"6m\", step=\"month\", stepmode=\"backward\"),\n",
    "                dict(count=1, label=\"YTD\", step=\"year\", stepmode=\"todate\"),\n",
    "                dict(count=1, label=\"1y\", step=\"year\", stepmode=\"backward\"),\n",
    "                dict(step=\"all\")\n",
    "            ])\n",
    "        )\n",
    "    )\n",
    "    fig.show()\n",
    "\n",
    "def clients_over_time(df_store):\n",
    "    df_revenue = df_store[df_store.dim_status==\"CLOSED\"].resample(\"D\").m_cached_payed.sum()\n",
    "    df_nb_customer = df_store[df_store.dim_status==\"CLOSED\"].resample(\"D\")[\"m_nb_customer\"].sum()\n",
    "\n",
    "    df_average_basket = df_revenue / df_nb_customer\n",
    "\n",
    "    fig_panier_moyen = go.Scatter(x=df_average_basket.index,\n",
    "                                  y=df_average_basket,\n",
    "                                  name=\"panier moyen\", \n",
    "                                  mode=\"lines\", \n",
    "                                  line_color=\"#000000\")\n",
    "\n",
    "    fig = px.bar(df_nb_customer,\n",
    "                 title=\"Nombre de clients au cours du temps\")\n",
    "    fig.add_trace(fig_panier_moyen)\n",
    "    fig.update_xaxes(tickformat=\"%d/%m/%Y\")\n",
    "    fig.update_xaxes(\n",
    "        rangeselector=dict(\n",
    "            buttons=list([\n",
    "                dict(count=1, label=\"1m\", step=\"month\", stepmode=\"backward\"),\n",
    "                dict(count=6, label=\"6m\", step=\"month\", stepmode=\"backward\"),\n",
    "                dict(count=1, label=\"YTD\", step=\"year\", stepmode=\"todate\"),\n",
    "                dict(count=1, label=\"1y\", step=\"year\", stepmode=\"backward\"),\n",
    "                dict(step=\"all\")\n",
    "            ])\n",
    "        )\n",
    "    )\n",
    "    fig.show()\n",
    "\n",
    "def best_staff(df_store):\n",
    "    df_store.loc[df_store[\"id_waiter\"].isnull(), \"id_waiter\"] = \"unknown\"\n",
    "\n",
    "    df_waiter = df_store.groupby(\"id_waiter\", as_index=False)[\"m_cached_payed\"].sum()\n",
    "\n",
    "    fig = px.pie(\n",
    "        df_waiter,\n",
    "        names='id_waiter',\n",
    "        values='m_cached_payed',\n",
    "        color='id_waiter',\n",
    "        title = 'Répartition des commandes non enregistrées par un serveur'\n",
    "    )\n",
    "    fig.update_traces(\n",
    "        textinfo='percent+label'\n",
    "    )\n",
    "    fig.show()"
   ]
  },
  {
   "cell_type": "code",
   "execution_count": 21,
   "id": "28341e3e",
   "metadata": {
    "id": "28341e3e"
   },
   "outputs": [],
   "source": [
    "def display_dash(df, id_store_dropdown, date_debut_picker, date_fin_picker):\n",
    "    df_filtered = df[df.id_store == id_store_dropdown]\n",
    "    df_filtered = df_filtered[df_filtered.date_opened > str(date_debut_picker)]\n",
    "    df_filtered = df_filtered[df_filtered.date_opened < str(date_fin_picker)]\n",
    "    revenue_over_time(df_filtered)\n",
    "    clients_over_time(df_filtered)\n",
    "    best_staff(df_filtered)"
   ]
  },
  {
   "cell_type": "code",
   "execution_count": 22,
   "id": "2ac3e0aa",
   "metadata": {
    "id": "2ac3e0aa"
   },
   "outputs": [],
   "source": [
    "from ipywidgets import HBox, VBox"
   ]
  },
  {
   "cell_type": "code",
   "execution_count": 23,
   "id": "7b0e693d",
   "metadata": {
    "id": "7b0e693d",
    "scrolled": false
   },
   "outputs": [],
   "source": [
    "ui = VBox([id_store_dropdown, HBox([date_debut_picker, date_fin_picker])])"
   ]
  },
  {
   "cell_type": "code",
   "execution_count": 24,
   "id": "e48b7222",
   "metadata": {
    "id": "5c89a3f8"
   },
   "outputs": [
    {
     "data": {
      "application/vnd.jupyter.widget-view+json": {
       "model_id": "5ef1c99cd4d94f21a29f4d77f4e32c9f",
       "version_major": 2,
       "version_minor": 0
      },
      "text/plain": [
       "VBox(children=(Dropdown(options=(8052, 8347, 8283, 9084, 4337, 360, 1796, 7965, 6293, 4542), value=8052), HBox…"
      ]
     },
     "metadata": {},
     "output_type": "display_data"
    },
    {
     "data": {
      "application/vnd.jupyter.widget-view+json": {
       "model_id": "6de75ac3e4f846a686ab5f350909a1f3",
       "version_major": 2,
       "version_minor": 0
      },
      "text/plain": [
       "Output()"
      ]
     },
     "metadata": {},
     "output_type": "display_data"
    }
   ],
   "source": [
    "out = interactive_output(\n",
    "    display_dash, \n",
    "    {\n",
    "        'df': fixed(df),\n",
    "        'id_store_dropdown': id_store_dropdown,\n",
    "        'date_debut_picker': date_debut_picker,\n",
    "        'date_fin_picker': date_fin_picker\n",
    "    }\n",
    ")\n",
    "display(ui, out)"
   ]
  },
  {
   "cell_type": "markdown",
   "id": "declared-nerve",
   "metadata": {
    "id": "declared-nerve",
    "tags": [
     "hide"
    ]
   },
   "source": [
    "c) Depuis un terminal, lancez la commande :\n",
    "```\n",
    "voila --TagRemovePreprocessor.remove_cell_tags hide ce_notebook.ipynb\n",
    "```"
   ]
  },
  {
   "cell_type": "markdown",
   "id": "nominated-literacy",
   "metadata": {
    "id": "nominated-literacy",
    "tags": [
     "hide"
    ]
   },
   "source": [
    "# 5) Déploiement de la webapp avec ngrok"
   ]
  },
  {
   "cell_type": "markdown",
   "id": "anu-fe824zpf",
   "metadata": {
    "id": "anu-fe824zpf",
    "tags": [
     "hide"
    ]
   },
   "source": [
    "On souhaite maintenant pouvoir partager notre webapp sans pour autant la déployer sur serveur sur un autre ordinateur. \n",
    "\n",
    "Pour cela, nous allons utiliser la librairie ngrok dont la documentation peut être consultée à [cette adresse](https://voila.readthedocs.io/en/stable/deploy.html). Mais nous allons vous guider dans la suite de cette partie."
   ]
  },
  {
   "cell_type": "markdown",
   "id": "matched-catalyst",
   "metadata": {
    "id": "matched-catalyst",
    "tags": [
     "hide"
    ]
   },
   "source": [
    "a) Installer [ngrok](https://ngrok.com/download)\n",
    "\n",
    "https://ngrok.com/download"
   ]
  },
  {
   "cell_type": "markdown",
   "id": "spiritual-airfare",
   "metadata": {
    "id": "spiritual-airfare",
    "tags": [
     "hide"
    ]
   },
   "source": [
    "b) Unzippez l'archive, puis authentifiez vous avec votre token :\n",
    "\n",
    "```./ngrok authtoken <token>```"
   ]
  },
  {
   "cell_type": "markdown",
   "id": "alien-inquiry",
   "metadata": {
    "id": "alien-inquiry",
    "tags": [
     "hide"
    ]
   },
   "source": [
    "c) Assurez-vous qu'une webapp voilà est déjà lancée en local (cf : commande voila ci-dessus)"
   ]
  },
  {
   "cell_type": "markdown",
   "id": "binding-spiritual",
   "metadata": {
    "id": "binding-spiritual",
    "tags": [
     "hide"
    ]
   },
   "source": [
    "d) Lancer un tunnel sur le port 8866 :\n",
    "\n",
    "```./ngrok http 8866```"
   ]
  },
  {
   "cell_type": "markdown",
   "id": "revolutionary-effectiveness",
   "metadata": {
    "id": "revolutionary-effectiveness",
    "tags": [
     "hide"
    ]
   },
   "source": [
    "e) Cliquez sur le lien affiché dans le terminal (```Forwarding```).\n",
    "Vous pouvez envoyer cette url à votre voisin, il pourra acceder à votre webapp !"
   ]
  },
  {
   "cell_type": "markdown",
   "id": "mature-margin",
   "metadata": {
    "id": "mature-margin",
    "tags": [
     "hide"
    ]
   },
   "source": [
    "# [Bonus] Déploiement d'une webapp avec Binder\n",
    "\n",
    "Pour pouvoir utiliser [Binder](https://jupyter.org/binder), il faut au préalable avoir pushé son notebook dans un repo git et avoir rajouté un fichier 'requirements.txt' contenant les librairies nécessaires pour faire tourner votre projet.\n",
    "\n",
    "Ensuite, il suffit d'aller sur https://mybinder.org/ et :\n",
    "- dans 'GitHub', copier coller l'URL de votre projet git\n",
    "- dans 'Path to a notebook file (optional)', écrivez 'voila/render/ce_notebook.ipynb' en précisant bien 'URL' au lieu de 'File'. Celà permet de spécifier à Binder qu'il faut directement utiliser Voila pour créer la webapp.\n",
    "\n",
    "Cliquez ensuite sur 'lauch'. Une image docker de votre projet sera créer grace au fichier 'requirements.txt'. Vous aurez ensuite un lien pour lancer un conteneur docker autonome qui vous permettra d'acceder à votre application web. Pour chaque utilisateur utilisant ce lien, un conteneur docker sera créé."
   ]
  }
 ],
 "metadata": {
  "celltoolbar": "Format de la Cellule Texte Brut",
  "colab": {
   "collapsed_sections": [
    "KkSFTLKop6iM",
    "EgGjaCKepJOw",
    "ZL-b7nPPrYgM",
    "1JpboWV5rYgQ",
    "MtEOEcTIrr81",
    "boPW2ghDrYgV",
    "cb_xVZmBrYgV",
    "GQw6xkoUrYgY",
    "I_Qj3kaWrYgZ",
    "oZTjWY2jrYgb",
    "8ABYmAV1rYgc",
    "vOqsIYKYrYgd"
   ],
   "name": "td_6_visualisation_enoncés_v3.ipynb",
   "provenance": []
  },
  "kernelspec": {
   "display_name": "Python 3 (ipykernel)",
   "language": "python",
   "name": "python3"
  },
  "language_info": {
   "codemirror_mode": {
    "name": "ipython",
    "version": 3
   },
   "file_extension": ".py",
   "mimetype": "text/x-python",
   "name": "python",
   "nbconvert_exporter": "python",
   "pygments_lexer": "ipython3",
   "version": "3.9.12"
  },
  "toc": {
   "base_numbering": 1,
   "nav_menu": {},
   "number_sections": true,
   "sideBar": true,
   "skip_h1_title": false,
   "title_cell": "Table of Contents",
   "title_sidebar": "Contents",
   "toc_cell": false,
   "toc_position": {},
   "toc_section_display": true,
   "toc_window_display": true
  }
 },
 "nbformat": 4,
 "nbformat_minor": 5
}
